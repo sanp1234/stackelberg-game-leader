{
 "cells": [
  {
   "cell_type": "code",
   "execution_count": 1,
   "metadata": {},
   "outputs": [],
   "source": [
    "import matplotlib.pyplot as plt\n",
    "from sklearn.linear_model import LinearRegression\n",
    "from sklearn.svm import SVR\n",
    "from sklearn.neural_network import MLPRegressor\n",
    "import numpy as np"
   ]
  },
  {
   "cell_type": "code",
   "execution_count": 2,
   "metadata": {},
   "outputs": [
    {
     "name": "stdout",
     "output_type": "stream",
     "text": [
      "(('2.129277', '1.384184', '1.308407', '1.541149', '2.283363', '2.231746', '1.692242', '2.281742', '1.763310', '1.826291', '2.084147', '2.076752', '1.840563', '1.673296', '1.877151', '1.846413', '1.993577', '1.473315', '2.011389', '1.371928', '1.580634', '1.855154', '2.260078', '1.786506', '1.441641', '1.482508', '1.813362', '2.256144', '1.533141', '2.294717', '1.603792', '1.567880', '2.094903', '1.729764', '2.122630', '1.971668', '1.921940', '1.422548', '2.118497', '1.576996', '1.362119', '1.648325', '1.593174', '2.151376', '2.266421', '2.070137', '2.082471', '1.912995', '2.112866', '1.497708', '1.947345', '1.839918', '2.261268', '1.764957', '1.829727', '1.855274', '1.645406', '1.394519', '1.346426', '1.889624', '1.606434', '1.957878', '2.212119', '1.758511', '2.088455', '2.043598', '1.997917', '2.185762', '2.181931', '1.425508', '1.766771', '1.987547', '1.483936', '2.232438', '1.745342', '1.628934', '1.995196', '2.256097', '1.606944', '1.720547', '1.550944', '1.538661', '2.062001', '1.944962', '2.279946', '1.742805', '1.631628', '1.920147', '1.681126', '1.496452', '1.648747', '1.885916', '1.559395', '1.702860', '1.304819', '2.002832', '1.351303', '1.825515', '1.446251', '1.910360', '1.606897', '1.613793', '1.620690', '1.627586', '1.634483', '1.641379', '1.648276', '1.655172', '1.662069', '1.668966', '1.675862', '1.682759', '1.689655', '1.696552', '1.703448', '1.710345', '1.717241', '1.724138', '1.731035', '1.737931', '1.744828', '1.751724', '1.758621', '1.765517', '1.772414', '1.779310', '1.786207', '1.793103', '1.800000'), ('2.072182', '1.979300', '1.946605', '1.986141', '2.075620', '2.057477', '2.038413', '2.125809', '1.991974', '2.022084', '2.022777', '2.089785', '2.074400', '2.014925', '2.078826', '2.044108', '2.092544', '2.005360', '2.086042', '1.996108', '2.039759', '1.996872', '2.056729', '1.998698', '1.974135', '1.980754', '2.054722', '2.157268', '2.026299', '2.112397', '2.013327', '2.021159', '2.069686', '2.003820', '2.092387', '2.044438', '2.056338', '1.960815', '2.072090', '2.015729', '1.938449', '1.978091', '1.988276', '2.015079', '2.103350', '2.064776', '2.094060', '2.085894', '2.099232', '2.000340', '2.036148', '2.033460', '2.138198', '2.026556', '2.067329', '2.044519', '1.990060', '1.970766', '1.946419', '2.026142', '2.025846', '2.081899', '2.119850', '2.010534', '2.058913', '2.035347', '2.028407', '2.049361', '2.099645', '1.993164', '2.019365', '2.070893', '1.974684', '2.085033', '2.018451', '2.027819', '2.051081', '2.083966', '2.027299', '2.046297', '2.010429', '2.007039', '2.068952', '2.031828', '2.080607', '2.048847', '1.984333', '2.023978', '2.032403', '1.982326', '2.024965', '2.015424', '1.990022', '2.056590', '1.930467', '2.072270', '1.982163', '2.050967', '2.024226', '2.047539', '2.029288', '2.039799', '1.942691', '1.957599', '1.964690', '2.001456', '2.079697', '1.951384', '2.051153', '2.002882', '2.084456', '2.090410', '1.984837', '2.042627', '2.056273', '2.000809', '2.007498', '2.041633', '2.092576', '2.027692', '1.999515', '2.005258', '1.999385', '1.961078', '1.957533', '2.076694', '2.074933', '2.107164', '2.010240'))\n"
     ]
    }
   ],
   "source": [
    "lines = [tuple(line.strip().split(',')) for line in open('data.txt', 'r').readlines()]\n",
    "x, y = zip(*lines)\n",
    "print(x,y)"
   ]
  },
  {
   "cell_type": "code",
   "execution_count": 3,
   "metadata": {
    "scrolled": false
   },
   "outputs": [
    {
     "data": {
      "image/png": "[encoded data removed]",
      "text/plain": [
       "<matplotlib.figure.Figure at 0x7ff327473e90>"
      ]
     },
     "metadata": {},
     "output_type": "display_data"
    }
   ],
   "source": [
    "plt.scatter(x, y)\n",
    "plt.show()"
   ]
  },
  {
   "cell_type": "code",
   "execution_count": 4,
   "metadata": {},
   "outputs": [],
   "source": [
    "X_train = np.array(list(x[:100]), dtype=float).reshape((-1, 1))\n",
    "X_train = np.concatenate((X_train, np.arange(0, 100).reshape((-1, 1))/200.0), axis=1)\n",
    "X_train = np.repeat(X_train, 10, axis=0)\n",
    "np.random.shuffle(X_train)\n",
    "Y_train = np.array(list(y[:100]), dtype=float).reshape((-1, 1))\n",
    "Y_train = np.repeat(Y_train, 10, axis=0)\n",
    "np.random.shuffle(Y_train)"
   ]
  },
  {
   "cell_type": "code",
   "execution_count": 16,
   "metadata": {
    "scrolled": true
   },
   "outputs": [
    {
     "data": {
      "text/plain": [
       "(1000, 2)"
      ]
     },
     "execution_count": 16,
     "metadata": {},
     "output_type": "execute_result"
    }
   ],
   "source": [
    "X_train.shape"
   ]
  },
  {
   "cell_type": "code",
   "execution_count": 5,
   "metadata": {},
   "outputs": [],
   "source": [
    "X_test = np.array(list(x[100:]), dtype=float).reshape((-1, 1))\n",
    "X_test = np.concatenate((X_test, np.arange(100, 129).reshape((-1, 1))/200.0), axis=1)\n",
    "Y_test = np.array(list(y[100:]), dtype=float).reshape((-1, 1))"
   ]
  },
  {
   "cell_type": "code",
   "execution_count": 6,
   "metadata": {},
   "outputs": [
    {
     "data": {
      "text/plain": [
       "LinearRegression(copy_X=True, fit_intercept=True, n_jobs=1, normalize=False)"
      ]
     },
     "execution_count": 6,
     "metadata": {},
     "output_type": "execute_result"
    }
   ],
   "source": [
    "model = LinearRegression()\n",
    "model.fit(X_train, Y_train)"
   ]
  },
  {
   "cell_type": "code",
   "execution_count": 9,
   "metadata": {},
   "outputs": [
    {
     "data": {
      "text/plain": [
       "MLPRegressor(activation='relu', alpha=0.0001, batch_size='auto', beta_1=0.9,\n",
       "       beta_2=0.999, early_stopping=False, epsilon=1e-08,\n",
       "       hidden_layer_sizes=(3, 3), learning_rate='constant',\n",
       "       learning_rate_init=0.0002, max_iter=200, momentum=0.9,\n",
       "       nesterovs_momentum=True, power_t=0.5, random_state=None,\n",
       "       shuffle=True, solver='adam', tol=0.0001, validation_fraction=0.1,\n",
       "       verbose=False, warm_start=False)"
      ]
     },
     "execution_count": 9,
     "metadata": {},
     "output_type": "execute_result"
    }
   ],
   "source": [
    "modelMLP = MLPRegressor(learning_rate_init=0.0002, hidden_layer_sizes=(3, 3))\n",
    "modelMLP.fit(X_train, Y_train)"
   ]
  },
  {
   "cell_type": "code",
   "execution_count": 15,
   "metadata": {},
   "outputs": [
    {
     "data": {
      "text/plain": [
       "SVR(C=1.0, cache_size=200, coef0=0.0, degree=3, epsilon=0.1, gamma='auto',\n",
       "  kernel='rbf', max_iter=-1, shrinking=True, tol=0.001, verbose=False)"
      ]
     },
     "execution_count": 15,
     "metadata": {},
     "output_type": "execute_result"
    }
   ],
   "source": [
    "modelSVM = SVR()\n",
    "modelSVM.fit(X_train, Y_train)"
   ]
  },
  {
   "cell_type": "code",
   "execution_count": 17,
   "metadata": {
    "scrolled": true
   },
   "outputs": [
    {
     "data": {
      "image/png": "[encoded data removed]",
      "text/plain": [
       "<matplotlib.figure.Figure at 0x7ff32743e690>"
      ]
     },
     "metadata": {},
     "output_type": "display_data"
    }
   ],
   "source": [
    "Y_linreg = model.predict(X_test)\n",
    "Y_svm = modelSVM.predict(X_test)\n",
    "Y_MLP = modelMLP.predict(X_test)\n",
    "plt.scatter(X_test[:, 0], Y_test, label=\"true\")\n",
    "plt.scatter(X_test[:, 0], Y_linreg, label=\"linear\")\n",
    "plt.scatter(X_test[:, 0], Y_svm, label=\"svm\")\n",
    "plt.scatter(X_test[:, 0], Y_MLP, label=\"mlp\")\n",
    "plt.legend()\n",
    "plt.show()"
   ]
  },
  {
   "cell_type": "code",
   "execution_count": null,
   "metadata": {},
   "outputs": [],
   "source": [
    "Y_predicted = model.predict(X_train)\n",
    "plt.scatter(X_test[:, 0], Y_test, label=\"true\")\n",
    "plt.scatter(X_test[:, 0], Y_predicted, label=\"svm\")\n",
    "plt.legend()\n",
    "plt.show()"
   ]
  },
  {
   "cell_type": "code",
   "execution_count": null,
   "metadata": {},
   "outputs": [],
   "source": [
    "Y_predicted = model.predict(X)\n",
    "plt.scatter(X, Y, label=\"true\")\n",
    "plt.scatter(X, Y_predicted, label=\"predicted\")\n",
    "plt.show()"
   ]
  },
  {
   "cell_type": "code",
   "execution_count": null,
   "metadata": {
    "scrolled": true
   },
   "outputs": [],
   "source": [
    "Y_predicted = model.predict(X)\n",
    "plt.scatter(np.arange(29), Y[-29:], label=\"true\")\n",
    "plt.show()"
   ]
  }
 ],
 "metadata": {
  "kernelspec": {
   "display_name": "Python 2",
   "language": "python",
   "name": "python2"
  },
  "language_info": {
   "codemirror_mode": {
    "name": "ipython",
    "version": 2
   },
   "file_extension": ".py",
   "mimetype": "text/x-python",
   "name": "python",
   "nbconvert_exporter": "python",
   "pygments_lexer": "ipython2",
   "version": "2.7.13"
  }
 },
 "nbformat": 4,
 "nbformat_minor": 2
}
